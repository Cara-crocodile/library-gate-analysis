{
 "cells": [
  {
   "cell_type": "code",
   "execution_count": 1,
   "id": "2ef12ad8-bbb4-4199-9a14-147aa18a5ca8",
   "metadata": {
    "editable": true,
    "slideshow": {
     "slide_type": ""
    },
    "tags": []
   },
   "outputs": [
    {
     "data": {
      "application/vnd.jupyter.widget-view+json": {
       "model_id": "55d98281611345af927ae6cce6be209b",
       "version_major": 2,
       "version_minor": 0
      },
      "text/plain": [
       "VBox(children=(FileUpload(value=(), accept='.csv', description='Upload'), Dropdown(description='Select data:',…"
      ]
     },
     "metadata": {},
     "output_type": "display_data"
    }
   ],
   "source": [
    "import os\n",
    "import pandas as pd\n",
    "import io\n",
    "from ipywidgets import FileUpload, Dropdown, Output, VBox, Button\n",
    "from IPython.display import display\n",
    "import pygwalker as pyg\n",
    "\n",
    "DATA_DIR = \"./datas\"  # Directory to store uploaded CSV\n",
    "os.makedirs(DATA_DIR, exist_ok=True)\n",
    "\n",
    "# Create widgets\n",
    "uploader = FileUpload(accept='.csv', multiple=False)\n",
    "dropdown = Dropdown(options=[\"Please select data\"], description=\"Select data:\")\n",
    "out = Output()\n",
    "visualize_btn = Button(description=\"Generate visualization\")\n",
    "\n",
    "# Handle file upload\n",
    "def handle_upload(change):\n",
    "    if uploader.value:\n",
    "        # Get uploaded file content\n",
    "        uploaded_file = uploader.value[0] if isinstance(uploader.value, tuple) else next(iter(uploader.value.values()))\n",
    "        content_bytes = uploaded_file['content'].tobytes()\n",
    "\n",
    "        # Read CSV data\n",
    "        df = pd.read_csv(io.StringIO(content_bytes.decode('utf-8')))\n",
    "\n",
    "        # Get file name and save\n",
    "        file_name = uploaded_file.get('name', 'uploaded_file.csv')\n",
    "        file_path = os.path.join(DATA_DIR, file_name)\n",
    "        df.to_csv(file_path, index=False)\n",
    "\n",
    "        print(f\"File saved as: {file_path}\")\n",
    "        \n",
    "        # Update dropdown list\n",
    "        update_dropdown()\n",
    "    else:\n",
    "        print(\"⚠️ Please upload a CSV file!\")\n",
    "\n",
    "# Update dropdown with file list\n",
    "def update_dropdown():\n",
    "    csv_files = [f for f in os.listdir(DATA_DIR) if f.endswith(\".csv\")]\n",
    "    if csv_files:\n",
    "        dropdown.options = csv_files\n",
    "    else:\n",
    "        dropdown.options = [\"Please select data\"]\n",
    "\n",
    "# Visualize CSV when selected\n",
    "def visualize(change):\n",
    "    with out:\n",
    "        out.clear_output()\n",
    "        if dropdown.value != \"Please select data\":\n",
    "            file_path = os.path.join(DATA_DIR, dropdown.value)\n",
    "            df = pd.read_csv(file_path)\n",
    "            display(pyg.walk(df, env='Jupyter'))\n",
    "        else:\n",
    "            print(\"⚠️ Please select a CSV file!\")\n",
    "\n",
    "# Observe events and bind actions\n",
    "uploader.observe(handle_upload, names='value')\n",
    "visualize_btn.on_click(visualize)\n",
    "\n",
    "# Display the widgets\n",
    "display(VBox([uploader, dropdown, visualize_btn, out]))\n",
    "\n",
    "# Initialize the dropdown list\n",
    "update_dropdown()\n"
   ]
  },
  {
   "cell_type": "code",
   "execution_count": null,
   "id": "84bcd521-7753-43cb-a044-036e39548da3",
   "metadata": {},
   "outputs": [],
   "source": []
  },
  {
   "cell_type": "code",
   "execution_count": null,
   "id": "6010fbec-21a9-49d9-93fd-afc2c811d6a6",
   "metadata": {},
   "outputs": [],
   "source": []
  },
  {
   "cell_type": "code",
   "execution_count": null,
   "id": "ef5ad601-80de-4dc9-b18d-dfd8c3cf5f05",
   "metadata": {},
   "outputs": [],
   "source": []
  }
 ],
 "metadata": {
  "kernelspec": {
   "display_name": "Python 3 (ipykernel)",
   "language": "python",
   "name": "python3"
  },
  "language_info": {
   "codemirror_mode": {
    "name": "ipython",
    "version": 3
   },
   "file_extension": ".py",
   "mimetype": "text/x-python",
   "name": "python",
   "nbconvert_exporter": "python",
   "pygments_lexer": "ipython3",
   "version": "3.10.12"
  }
 },
 "nbformat": 4,
 "nbformat_minor": 5
}
